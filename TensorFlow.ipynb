{
 "cells": [
  {
   "cell_type": "markdown",
   "metadata": {},
   "source": [
    "# <font color='blue'><big>TENSORFLOW\n",
    "https://www.tensorflow.org/api_docs/python/tf/compat/v1/Session?hl=es-419<br>\n",
    "https://www.tensorflow.org/guide/migrate#1_replace_v1sessionrun_calls<br>\n",
    "\n",
    "    \n",
    "    \n",
    "- Hay varios cambios de **TFv1 a TFv2**. Por favor chequear algunos en las paginas de los links."
   ]
  },
  {
   "cell_type": "markdown",
   "metadata": {},
   "source": [
    "## <font color='blue'>EAGER MODE en TensorFlow 2\n",
    "https://medium.com/ai%C2%B3-theory-practice-business/tensorflow-1-0-vs-2-0-part-2-eager-execution-and-autograph-47473ed8b817<br>\n",
    "    \n",
    "- Con **EAGER MODE** no necesitamos una **``tf.Session``** para correr el código en TF. el entorno TensorFlow se comporta como cualquier código Python. Además podemos utilizar **if, while**, and **for**. \n",
    "\n",
    "- Con **EAGER MODE** se removieron de TF v1:\n",
    "    - **``tf.Session``**\n",
    "    - **``tf.Graph``**\n",
    "    - **``tf.if``**, **``tf.while``**, **``tf.control_depnedencies``** (control flow directives)\n",
    "    - **``placeholders``**\n",
    "    - **``variable initialization``**\n",
    "    - **``variable sharing``**"
   ]
  },
  {
   "cell_type": "code",
   "execution_count": 65,
   "metadata": {},
   "outputs": [],
   "source": [
    "import numpy as np\n",
    "import tensorflow as tf"
   ]
  },
  {
   "cell_type": "code",
   "execution_count": 3,
   "metadata": {},
   "outputs": [
    {
     "data": {
      "text/plain": [
       "'2.6.0'"
      ]
     },
     "execution_count": 3,
     "metadata": {},
     "output_type": "execute_result"
    }
   ],
   "source": [
    "tf.__version__"
   ]
  },
  {
   "cell_type": "markdown",
   "metadata": {},
   "source": [
    "# ``tf.math.add(a, b)`` $\\;$$\\;$$\\;$ ``tf.math.multiply(a, b)``"
   ]
  },
  {
   "cell_type": "code",
   "execution_count": 67,
   "metadata": {},
   "outputs": [
    {
     "name": "stdout",
     "output_type": "stream",
     "text": [
      "10\r\n"
     ]
    }
   ],
   "source": [
    "a = tf.constant(4)\n",
    "b = tf.constant(6)\n",
    "c = tf.math.add(a, b)\n",
    "tf.print(c)"
   ]
  },
  {
   "cell_type": "code",
   "execution_count": 81,
   "metadata": {},
   "outputs": [
    {
     "name": "stdout",
     "output_type": "stream",
     "text": [
      "24\r\n"
     ]
    }
   ],
   "source": [
    "a = tf.constant(4)\n",
    "b = tf.constant(6)\n",
    "c = tf.math.multiply(a, b)\n",
    "tf.print(c)"
   ]
  },
  {
   "cell_type": "markdown",
   "metadata": {},
   "source": [
    "# ``tf.matmul(a, b)`` $\\;$$\\;$$\\;$ ``tf.linalg.matmul(a, b)``"
   ]
  },
  {
   "cell_type": "code",
   "execution_count": 82,
   "metadata": {},
   "outputs": [
    {
     "name": "stdout",
     "output_type": "stream",
     "text": [
      "[[20]]\r\n"
     ]
    }
   ],
   "source": [
    "a = tf.constant([1, 2, 3, 4],shape=(1,4))\n",
    "b = tf.constant([4,3,2,1],shape=(4,1))\n",
    "c = tf.matmul(a, b)\n",
    "tf.print(c)"
   ]
  },
  {
   "cell_type": "code",
   "execution_count": 85,
   "metadata": {},
   "outputs": [
    {
     "name": "stdout",
     "output_type": "stream",
     "text": [
      "[[4 8 12 16]\n",
      " [3 6 9 12]\n",
      " [2 4 6 8]\n",
      " [1 2 3 4]]\r\n"
     ]
    }
   ],
   "source": [
    "# multiply matrices\n",
    "a = tf.constant([1, 2, 3, 4],shape=(1,4))\n",
    "b = tf.constant([4,3,2,1],shape=(4,1))\n",
    "c = tf.math.multiply(a, b)\n",
    "tf.print(c)"
   ]
  },
  {
   "cell_type": "code",
   "execution_count": 87,
   "metadata": {},
   "outputs": [
    {
     "name": "stdout",
     "output_type": "stream",
     "text": [
      "[[20]]\r\n"
     ]
    }
   ],
   "source": [
    "a = tf.constant([1, 2, 3, 4],shape=(1,4))\n",
    "b = tf.constant([4,3,2,1],shape=(4,1))\n",
    "c = tf.linalg.matmul(a, b)\n",
    "tf.print(c)"
   ]
  },
  {
   "cell_type": "markdown",
   "metadata": {},
   "source": [
    "# ``tf.fill((fil,col),numero)``"
   ]
  },
  {
   "cell_type": "code",
   "execution_count": 20,
   "metadata": {},
   "outputs": [
    {
     "data": {
      "text/plain": [
       "<tf.Tensor: shape=(2, 3), dtype=int32, numpy=\n",
       "array([[10, 10, 10],\n",
       "       [10, 10, 10]])>"
      ]
     },
     "execution_count": 20,
     "metadata": {},
     "output_type": "execute_result"
    }
   ],
   "source": [
    "my_fill = tf.fill((2,3),10)\n",
    "my_fill"
   ]
  },
  {
   "cell_type": "markdown",
   "metadata": {},
   "source": [
    "# ``tf.zeros((fil,col))``\n",
    "- Los parentesis dentro de los parentesis siempre tienen que estar para darle a la matriz las filas y columnas deseadas.\n",
    "\n",
    "\n",
    "- Por ejemplo: \n",
    "\n",
    "    - **``tf.zeros((2,3)) = array([0., 0., 0.],[0., 0., 0.])``** $\\;$$\\;$$\\;$ **>>> shape=(2, 3)**\n",
    "    - **``tf.zeros(2,3) = array([0, 0])``** $\\;$$\\;$$\\;$$\\;$$\\;$$\\;$$\\;$$\\;$$\\;$$\\;$$\\;$$\\;$$\\;$$\\;$$\\;$$\\;$$\\;$$\\;$$\\;$$\\;$$\\;$$\\;$$\\;$$\\;$$\\;$$\\;$$\\;$$\\;$$\\;$$\\;$$\\;$$\\;$$\\;$$\\;$$\\;$ **>>> shape=(2,)**\n",
    "    "
   ]
  },
  {
   "cell_type": "code",
   "execution_count": 21,
   "metadata": {},
   "outputs": [
    {
     "data": {
      "text/plain": [
       "<tf.Tensor: shape=(2, 3), dtype=float32, numpy=\n",
       "array([[0., 0., 0.],\n",
       "       [0., 0., 0.]], dtype=float32)>"
      ]
     },
     "execution_count": 21,
     "metadata": {},
     "output_type": "execute_result"
    }
   ],
   "source": [
    "my_zeros= tf.zeros((2,3))\n",
    "my_zeros"
   ]
  },
  {
   "cell_type": "code",
   "execution_count": 44,
   "metadata": {},
   "outputs": [
    {
     "data": {
      "text/plain": [
       "<tf.Tensor: shape=(2,), dtype=int32, numpy=array([0, 0])>"
      ]
     },
     "execution_count": 44,
     "metadata": {},
     "output_type": "execute_result"
    }
   ],
   "source": [
    "my_zeros2= tf.zeros(2,3)\n",
    "my_zeros2"
   ]
  },
  {
   "cell_type": "markdown",
   "metadata": {},
   "source": [
    "# ``tf.ones((fil,col))``"
   ]
  },
  {
   "cell_type": "code",
   "execution_count": 22,
   "metadata": {},
   "outputs": [
    {
     "data": {
      "text/plain": [
       "<tf.Tensor: shape=(2, 3), dtype=float32, numpy=\n",
       "array([[1., 1., 1.],\n",
       "       [1., 1., 1.]], dtype=float32)>"
      ]
     },
     "execution_count": 22,
     "metadata": {},
     "output_type": "execute_result"
    }
   ],
   "source": [
    "my_ones= tf.ones((2,3))\n",
    "my_ones"
   ]
  },
  {
   "cell_type": "markdown",
   "metadata": {},
   "source": [
    "## ``tf.random.normal(shape,mean=0.0,stddev=1.0,dtype=tf.float32,seed=None,name=None)``\n",
    "- Devuelve valores aleatorios de una distribución normal.\n",
    "\n",
    "\n",
    "- **dtype:** SOLO acepta **float**, no acepta **int**.  \n",
    "    - **float16:** hasta 2 decimales. \n",
    "    - **float32:** hasta 4 decimales.\n",
    "    - **float64:** hasta 8 decimales.\n",
    "\n",
    "\n",
    "- **seed:** Para que funcione, antes de la linea de **``tf.random.normal``** hay que escribir una linea de comando **``tf.random.set_seed(n)``**"
   ]
  },
  {
   "cell_type": "code",
   "execution_count": 23,
   "metadata": {},
   "outputs": [
    {
     "data": {
      "text/plain": [
       "<tf.Tensor: shape=(2, 3), dtype=float16, numpy=\n",
       "array([[17.88, 23.48, 11.03],\n",
       "       [26.06, 34.9 , 30.48]], dtype=float16)>"
      ]
     },
     "execution_count": 23,
     "metadata": {},
     "output_type": "execute_result"
    }
   ],
   "source": [
    "my_randn = tf.random.normal([2,3], mean=32, stddev=12, dtype=tf.float16,seed=5)\n",
    "my_randn"
   ]
  },
  {
   "cell_type": "markdown",
   "metadata": {},
   "source": [
    "### ``tf.random.set_seed(n)``\n",
    "- Para poder utilizar el **seed** y elegir siempre los mismo valores."
   ]
  },
  {
   "cell_type": "code",
   "execution_count": 32,
   "metadata": {},
   "outputs": [
    {
     "data": {
      "text/plain": [
       "<tf.Tensor: shape=(2, 3), dtype=float16, numpy=\n",
       "array([[27.31, 18.11, 42.5 ],\n",
       "       [23.23, 32.9 , 51.44]], dtype=float16)>"
      ]
     },
     "execution_count": 32,
     "metadata": {},
     "output_type": "execute_result"
    }
   ],
   "source": [
    "tf.random.set_seed(2)\n",
    "my_randnseed = tf.random.normal([2,3], mean=32, stddev=12, dtype=tf.float16,seed=5)\n",
    "my_randnseed"
   ]
  },
  {
   "cell_type": "markdown",
   "metadata": {},
   "source": [
    "## ``tf.random.uniform(shape,minval=N,maxval=N,dtype=tf.float/int,seed=N,name=N)``\n",
    "- Devuelve valores aleatorios en una **Distribucion Uniforme** (Distribución Uniforme es cuando todos los valores entre un minimo y un maximo tienen las mismas posibilidades. Un ejemplo es lanzar un dado, ya que todos los 6 resultados posibles tienen 1/6 de probabilidad de ocurrencia cada uno)\n",
    "- Pueden repetirse valores (de hecho, probando aparecieron valores identicos ente si)"
   ]
  },
  {
   "cell_type": "code",
   "execution_count": 92,
   "metadata": {},
   "outputs": [
    {
     "data": {
      "text/plain": [
       "<tf.Tensor: shape=(2, 3), dtype=int32, numpy=\n",
       "array([[25, 44, 19],\n",
       "       [42, 30, 10]])>"
      ]
     },
     "execution_count": 92,
     "metadata": {},
     "output_type": "execute_result"
    }
   ],
   "source": [
    "my_randu = tf.random.uniform((2,3), minval=0, maxval=45, dtype=tf.int32)\n",
    "my_randu"
   ]
  },
  {
   "cell_type": "code",
   "execution_count": 94,
   "metadata": {},
   "outputs": [
    {
     "data": {
      "text/plain": [
       "[<tf.Tensor: shape=(2, 3), dtype=int32, numpy=\n",
       " array([[10, 10, 10],\n",
       "        [10, 10, 10]])>,\n",
       " <tf.Tensor: shape=(2, 3), dtype=float32, numpy=\n",
       " array([[0., 0., 0.],\n",
       "        [0., 0., 0.]], dtype=float32)>,\n",
       " <tf.Tensor: shape=(2, 3), dtype=float32, numpy=\n",
       " array([[1., 1., 1.],\n",
       "        [1., 1., 1.]], dtype=float32)>,\n",
       " <tf.Tensor: shape=(2, 3), dtype=float16, numpy=\n",
       " array([[17.88, 23.48, 11.03],\n",
       "        [26.06, 34.9 , 30.48]], dtype=float16)>,\n",
       " <tf.Tensor: shape=(2, 3), dtype=int32, numpy=\n",
       " array([[25, 44, 19],\n",
       "        [42, 30, 10]])>]"
      ]
     },
     "execution_count": 94,
     "metadata": {},
     "output_type": "execute_result"
    }
   ],
   "source": [
    "todos =[my_fill,my_zeros,my_ones,my_randn,my_randu]\n",
    "todos"
   ]
  },
  {
   "cell_type": "markdown",
   "metadata": {},
   "source": [
    "# ``tf.print()``"
   ]
  },
  {
   "cell_type": "code",
   "execution_count": 96,
   "metadata": {},
   "outputs": [
    {
     "name": "stdout",
     "output_type": "stream",
     "text": [
      "[[[10 10 10]\n",
      " [10 10 10]], [[0 0 0]\n",
      " [0 0 0]], [[1 1 1]\n",
      " [1 1 1]], [[17.875 23.484375 11.03125]\n",
      " [26.0625 34.90625 30.484375]], [[25 44 19]\n",
      " [42 30 10]]]\r\n"
     ]
    }
   ],
   "source": [
    "todos =[my_fill,my_zeros,my_ones,my_randn,my_randu]\n",
    "tf.print(todos)"
   ]
  },
  {
   "cell_type": "code",
   "execution_count": 90,
   "metadata": {},
   "outputs": [
    {
     "name": "stdout",
     "output_type": "stream",
     "text": [
      "[[10 10 10]\n",
      " [10 10 10]]\n",
      "\n",
      "\n",
      "[[0 0 0]\n",
      " [0 0 0]]\n",
      "\n",
      "\n",
      "[[1 1 1]\n",
      " [1 1 1]]\n",
      "\n",
      "\n",
      "[[17.875 23.484375 11.03125]\n",
      " [26.0625 34.90625 30.484375]]\n",
      "\n",
      "\n",
      "[[44 9 22]\n",
      " [15 29 32]]\n",
      "\n",
      "\n"
     ]
    }
   ],
   "source": [
    "for uno in todos:\n",
    "    tf.print(uno)\n",
    "    tf.print('\\n')"
   ]
  }
 ],
 "metadata": {
  "kernelspec": {
   "display_name": "Python 3 (ipykernel)",
   "language": "python",
   "name": "python3"
  },
  "language_info": {
   "codemirror_mode": {
    "name": "ipython",
    "version": 3
   },
   "file_extension": ".py",
   "mimetype": "text/x-python",
   "name": "python",
   "nbconvert_exporter": "python",
   "pygments_lexer": "ipython3",
   "version": "3.9.12"
  }
 },
 "nbformat": 4,
 "nbformat_minor": 4
}
