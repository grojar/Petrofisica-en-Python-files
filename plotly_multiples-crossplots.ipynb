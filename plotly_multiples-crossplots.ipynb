{
 "cells": [
  {
   "cell_type": "markdown",
   "metadata": {},
   "source": [
    "# <big><font color='#D35400'>Crear múltiples crossplots Densidad-Neutrón utilizando plotly</font><big>"
   ]
  },
  {
   "cell_type": "code",
   "execution_count": null,
   "metadata": {},
   "outputs": [],
   "source": [
    "import lasio\n",
    "import pandas as pd\n",
    "import os\n",
    "from IPython.display import clear_output\n",
    "\n",
    "import plotly.express as px"
   ]
  },
  {
   "cell_type": "markdown",
   "metadata": {},
   "source": [
    "<a id='carga'></a>\n",
    "# <font color='#8E44AD'>CARGA DE DATOS</font>"
   ]
  },
  {
   "cell_type": "code",
   "execution_count": null,
   "metadata": {},
   "outputs": [],
   "source": [
    "if 'lista_pozos' in locals():\n",
    "    del lista_pozos\n",
    "else:\n",
    "    lista_pozos = []\n",
    "    \n",
    "lista_pozos = []   \n",
    "path=input(\"Escriba el PATH completo de la carpeta que contiene los archivos .las y presione ENTER. (Ejemplo: D:\\Pablo\\Python\\working_files)\")\n",
    "clear_output(wait=True)\n",
    "# D:\\Pablo\\Python\\working_files\\pozos\n",
    "\n",
    "for file in os.listdir(path):\n",
    "    if file.endswith(\".las\"):\n",
    "        print(os.path.join(file))"
   ]
  },
  {
   "cell_type": "code",
   "execution_count": null,
   "metadata": {},
   "outputs": [],
   "source": [
    "pozo_nomb_comienzo=input(\"Escriba las primeras letras/números de los archivos .las con el que va a trabajar y presione ENTER,si va a utilizar todos los .las de la carpeta, solo presione ENTER\")\n",
    "\n",
    "clear_output(wait=True)\n",
    "\n",
    "for pozo in os.listdir(path):\n",
    "    if pozo.endswith('.las') and pozo.startswith((pozo_nomb_comienzo.lower(),pozo_nomb_comienzo.upper(),pozo_nomb_comienzo.capitalize())):\n",
    "        lista_pozos.append(path+\"\\\\\"+pozo)\n",
    "        \n",
    "lista_pozos"
   ]
  },
  {
   "cell_type": "markdown",
   "metadata": {},
   "source": [
    "## <font color='#2F60EB'>Crear 1 df con los datos de todos los pozos</font>"
   ]
  },
  {
   "cell_type": "code",
   "execution_count": null,
   "metadata": {},
   "outputs": [],
   "source": [
    "df_lista_pozos = []\n",
    "\n",
    "for pozo in lista_pozos:\n",
    "    las = lasio.read(pozo)\n",
    "    df_las = las.df()\n",
    "    df_las['DEPTH'] = df_las.index\n",
    "    df_las['WELL'] = las.well.WELL.value\n",
    "    df_las['WELL_TOP'] = las.well.STRT.value\n",
    "    df_las['WELL_BOT'] = las.well.STOP.value\n",
    "    df_lista_pozos.append(df_las)\n",
    "    \n",
    "df_pozos = pd.concat(df_lista_pozos, sort=True)\n",
    "pd.set_option('display.max_columns', None)\n",
    "\n",
    "print ('\\033[1m'+'POZOS:')\n",
    "for uniq in sorted(df_pozos[\"WELL\"].unique()):\n",
    "    print (uniq)\n",
    "\n",
    "df_pozos"
   ]
  },
  {
   "cell_type": "code",
   "execution_count": null,
   "metadata": {},
   "outputs": [],
   "source": [
    "df_pozos.describe()"
   ]
  },
  {
   "cell_type": "code",
   "execution_count": null,
   "metadata": {},
   "outputs": [],
   "source": [
    "df_pozos.groupby('WELL').mean()"
   ]
  },
  {
   "cell_type": "code",
   "execution_count": null,
   "metadata": {
    "scrolled": true
   },
   "outputs": [],
   "source": [
    "df_pozos.groupby('WELL').mean()[['WELL_TOP','WELL_BOT']]"
   ]
  },
  {
   "cell_type": "markdown",
   "metadata": {},
   "source": [
    "<a id='px'></a>\n",
    "# <font color='#8E44AD'>SCATTER PLOT EN PLOTLY EXPRESS</font>"
   ]
  },
  {
   "cell_type": "code",
   "execution_count": null,
   "metadata": {},
   "outputs": [],
   "source": [
    "################################### DATOS ####################################\n",
    "##### Columnas #####\n",
    "crv_x = 'NPHI'\n",
    "crv_y = 'RHOB'\n",
    "crv_color= 'GR'\n",
    "crv_facet = 'WELL'\n",
    "crv_size = 'CALI'\n",
    "\n",
    "### Escalas curvas ###\n",
    "crv_x_izq = 0\n",
    "crv_x_der = 0.8\n",
    "\n",
    "crv_y_aba = 3.2\n",
    "crv_y_arr = 1.2\n",
    "\n",
    "color_izq = 0\n",
    "color_der = 120\n",
    "color_cmap = px.colors.sequential.Hot_r\n",
    "\n",
    "################################### CODIGO ####################################\n",
    "\n",
    "##### Creamos un df solo con las curvas del grafico + DETPH #####\n",
    "plotdf = pd.DataFrame()\n",
    "crv_copy= df_pozos[[crv_x,crv_y,crv_color,crv_facet,crv_size,'DEPTH']]\n",
    "plotdf = crv_copy.copy(deep=True)\n",
    "\n",
    "df = plotdf[df_pozos[crv_size].notnull()]     \n",
    "\n",
    "##### PLOT #####\n",
    "fig = px.scatter(df, x=df[crv_x], y=df[crv_y],\n",
    "                 color=df[crv_color],range_color=[color_izq,color_der], color_continuous_scale=color_cmap,\n",
    "                 size=df[crv_size],\n",
    "                 facet_col=df[crv_facet],facet_col_wrap=2)\n",
    "\n",
    "fig.update_layout(autosize=False, width=1000, height=1200)\n",
    "fig.update_coloraxes(colorbar_len=0.5)  \n",
    "fig.update_xaxes(range=[crv_x_izq, crv_x_der])\n",
    "fig.update_yaxes(range=[crv_y_aba, crv_y_arr])\n",
    "fig.show()"
   ]
  },
  {
   "cell_type": "code",
   "execution_count": null,
   "metadata": {},
   "outputs": [],
   "source": []
  }
 ],
 "metadata": {
  "kernelspec": {
   "display_name": "Python 3 (ipykernel)",
   "language": "python",
   "name": "python3"
  },
  "language_info": {
   "codemirror_mode": {
    "name": "ipython",
    "version": 3
   },
   "file_extension": ".py",
   "mimetype": "text/x-python",
   "name": "python",
   "nbconvert_exporter": "python",
   "pygments_lexer": "ipython3",
   "version": "3.9.12"
  }
 },
 "nbformat": 4,
 "nbformat_minor": 4
}
